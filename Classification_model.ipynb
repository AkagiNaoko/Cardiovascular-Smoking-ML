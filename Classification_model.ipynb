{
 "cells": [
  {
   "cell_type": "code",
   "execution_count": 1,
   "id": "53cc832e",
   "metadata": {},
   "outputs": [],
   "source": [
    "import pandas as pd\n",
    "from pathlib import Path\n",
    "import sklearn as skl\n",
    "import tensorflow as tf\n",
    "from sklearn.model_selection import train_test_split\n",
    "from sklearn.preprocessing import StandardScaler\n",
    "scaler = StandardScaler()"
   ]
  },
  {
   "cell_type": "code",
   "execution_count": 3,
   "id": "6aac86f0",
   "metadata": {},
   "outputs": [
    {
     "data": {
      "text/html": [
       "<div>\n",
       "<style scoped>\n",
       "    .dataframe tbody tr th:only-of-type {\n",
       "        vertical-align: middle;\n",
       "    }\n",
       "\n",
       "    .dataframe tbody tr th {\n",
       "        vertical-align: top;\n",
       "    }\n",
       "\n",
       "    .dataframe thead th {\n",
       "        text-align: right;\n",
       "    }\n",
       "</style>\n",
       "<table border=\"1\" class=\"dataframe\">\n",
       "  <thead>\n",
       "    <tr style=\"text-align: right;\">\n",
       "      <th></th>\n",
       "      <th>Year-State</th>\n",
       "      <th>Inactive-Female</th>\n",
       "      <th>Inactive-Male</th>\n",
       "      <th>Inactive-Overall</th>\n",
       "      <th>Obese-Female</th>\n",
       "      <th>Obese-Male</th>\n",
       "      <th>Obese-Overall</th>\n",
       "      <th>Diabetic-Female</th>\n",
       "      <th>Diabetic-Male</th>\n",
       "      <th>Diabetic-Overall</th>\n",
       "      <th>...</th>\n",
       "      <th>Major CV Disease-Overall</th>\n",
       "      <th>current_overall</th>\n",
       "      <th>current_female</th>\n",
       "      <th>current_male</th>\n",
       "      <th>Never_overall</th>\n",
       "      <th>Never_female</th>\n",
       "      <th>Never_male</th>\n",
       "      <th>Former_overall</th>\n",
       "      <th>Former_female</th>\n",
       "      <th>Former_male</th>\n",
       "    </tr>\n",
       "  </thead>\n",
       "  <tbody>\n",
       "    <tr>\n",
       "      <th>0</th>\n",
       "      <td>2011-AL</td>\n",
       "      <td>65.7</td>\n",
       "      <td>70.6</td>\n",
       "      <td>68.0</td>\n",
       "      <td>32.9</td>\n",
       "      <td>32.9</td>\n",
       "      <td>32.9</td>\n",
       "      <td>11.4</td>\n",
       "      <td>10.4</td>\n",
       "      <td>10.8</td>\n",
       "      <td>...</td>\n",
       "      <td>9.9</td>\n",
       "      <td>24.3</td>\n",
       "      <td>21.0</td>\n",
       "      <td>28.0</td>\n",
       "      <td>50.6</td>\n",
       "      <td>58.8</td>\n",
       "      <td>41.5</td>\n",
       "      <td>25.1</td>\n",
       "      <td>20.1</td>\n",
       "      <td>30.5</td>\n",
       "    </tr>\n",
       "    <tr>\n",
       "      <th>1</th>\n",
       "      <td>2011-AK</td>\n",
       "      <td>75.8</td>\n",
       "      <td>79.8</td>\n",
       "      <td>77.9</td>\n",
       "      <td>27.6</td>\n",
       "      <td>28.6</td>\n",
       "      <td>28.1</td>\n",
       "      <td>8.6</td>\n",
       "      <td>8.1</td>\n",
       "      <td>8.4</td>\n",
       "      <td>...</td>\n",
       "      <td>6.5</td>\n",
       "      <td>22.9</td>\n",
       "      <td>23.0</td>\n",
       "      <td>22.9</td>\n",
       "      <td>49.1</td>\n",
       "      <td>52.2</td>\n",
       "      <td>46.2</td>\n",
       "      <td>27.9</td>\n",
       "      <td>24.9</td>\n",
       "      <td>30.8</td>\n",
       "    </tr>\n",
       "    <tr>\n",
       "      <th>2</th>\n",
       "      <td>2011-AZ</td>\n",
       "      <td>75.9</td>\n",
       "      <td>76.3</td>\n",
       "      <td>76.1</td>\n",
       "      <td>26.7</td>\n",
       "      <td>24.9</td>\n",
       "      <td>25.7</td>\n",
       "      <td>8.1</td>\n",
       "      <td>10.0</td>\n",
       "      <td>9.0</td>\n",
       "      <td>...</td>\n",
       "      <td>7.8</td>\n",
       "      <td>19.3</td>\n",
       "      <td>17.5</td>\n",
       "      <td>21.0</td>\n",
       "      <td>55.9</td>\n",
       "      <td>61.3</td>\n",
       "      <td>50.3</td>\n",
       "      <td>24.9</td>\n",
       "      <td>21.1</td>\n",
       "      <td>28.7</td>\n",
       "    </tr>\n",
       "    <tr>\n",
       "      <th>3</th>\n",
       "      <td>2011-AR</td>\n",
       "      <td>67.2</td>\n",
       "      <td>72.9</td>\n",
       "      <td>70.0</td>\n",
       "      <td>32.4</td>\n",
       "      <td>31.0</td>\n",
       "      <td>31.6</td>\n",
       "      <td>9.7</td>\n",
       "      <td>11.2</td>\n",
       "      <td>10.4</td>\n",
       "      <td>...</td>\n",
       "      <td>9.8</td>\n",
       "      <td>27.0</td>\n",
       "      <td>25.2</td>\n",
       "      <td>28.9</td>\n",
       "      <td>47.9</td>\n",
       "      <td>53.0</td>\n",
       "      <td>42.6</td>\n",
       "      <td>25.1</td>\n",
       "      <td>21.8</td>\n",
       "      <td>28.6</td>\n",
       "    </tr>\n",
       "    <tr>\n",
       "      <th>4</th>\n",
       "      <td>2011-CA</td>\n",
       "      <td>80.1</td>\n",
       "      <td>81.8</td>\n",
       "      <td>80.9</td>\n",
       "      <td>25.1</td>\n",
       "      <td>23.9</td>\n",
       "      <td>24.6</td>\n",
       "      <td>7.9</td>\n",
       "      <td>9.2</td>\n",
       "      <td>8.4</td>\n",
       "      <td>...</td>\n",
       "      <td>6.6</td>\n",
       "      <td>13.7</td>\n",
       "      <td>10.0</td>\n",
       "      <td>17.3</td>\n",
       "      <td>62.5</td>\n",
       "      <td>70.1</td>\n",
       "      <td>54.8</td>\n",
       "      <td>23.9</td>\n",
       "      <td>19.9</td>\n",
       "      <td>27.9</td>\n",
       "    </tr>\n",
       "  </tbody>\n",
       "</table>\n",
       "<p>5 rows × 31 columns</p>\n",
       "</div>"
      ],
      "text/plain": [
       "  Year-State  Inactive-Female  Inactive-Male  Inactive-Overall  Obese-Female  \\\n",
       "0    2011-AL             65.7           70.6              68.0          32.9   \n",
       "1    2011-AK             75.8           79.8              77.9          27.6   \n",
       "2    2011-AZ             75.9           76.3              76.1          26.7   \n",
       "3    2011-AR             67.2           72.9              70.0          32.4   \n",
       "4    2011-CA             80.1           81.8              80.9          25.1   \n",
       "\n",
       "   Obese-Male  Obese-Overall  Diabetic-Female  Diabetic-Male  \\\n",
       "0        32.9           32.9             11.4           10.4   \n",
       "1        28.6           28.1              8.6            8.1   \n",
       "2        24.9           25.7              8.1           10.0   \n",
       "3        31.0           31.6              9.7           11.2   \n",
       "4        23.9           24.6              7.9            9.2   \n",
       "\n",
       "   Diabetic-Overall  ...  Major CV Disease-Overall  current_overall  \\\n",
       "0              10.8  ...                       9.9             24.3   \n",
       "1               8.4  ...                       6.5             22.9   \n",
       "2               9.0  ...                       7.8             19.3   \n",
       "3              10.4  ...                       9.8             27.0   \n",
       "4               8.4  ...                       6.6             13.7   \n",
       "\n",
       "   current_female  current_male  Never_overall  Never_female  Never_male  \\\n",
       "0            21.0          28.0           50.6          58.8        41.5   \n",
       "1            23.0          22.9           49.1          52.2        46.2   \n",
       "2            17.5          21.0           55.9          61.3        50.3   \n",
       "3            25.2          28.9           47.9          53.0        42.6   \n",
       "4            10.0          17.3           62.5          70.1        54.8   \n",
       "\n",
       "   Former_overall  Former_female  Former_male  \n",
       "0            25.1           20.1         30.5  \n",
       "1            27.9           24.9         30.8  \n",
       "2            24.9           21.1         28.7  \n",
       "3            25.1           21.8         28.6  \n",
       "4            23.9           19.9         27.9  \n",
       "\n",
       "[5 rows x 31 columns]"
      ]
     },
     "execution_count": 3,
     "metadata": {},
     "output_type": "execute_result"
    }
   ],
   "source": [
    "merged_df=pd.read_csv(Path('Resources/Outputs/CV_cigaretee.csv'))\n",
    "merged_df.head()"
   ]
  },
  {
   "cell_type": "code",
   "execution_count": 4,
   "id": "b3aa26bf",
   "metadata": {},
   "outputs": [
    {
     "name": "stdout",
     "output_type": "stream",
     "text": [
      "7.6189189189189195\n"
     ]
    }
   ],
   "source": [
    "target = []  # Initialize the target list\n",
    "mean_value = merged_df[\"Major CV Disease-Overall\"].mean()\n",
    "print(mean_value)\n",
    "for index, row in merged_df.iterrows():\n",
    "    if row[\"Major CV Disease-Overall\"] > mean_value:\n",
    "        value = 1\n",
    "        target.append(value)\n",
    "    else:\n",
    "        value = 0  # You might want to assign a different value for the other case\n",
    "        target.append(value)\n",
    "merged_df[\"target\"] =target"
   ]
  },
  {
   "cell_type": "code",
   "execution_count": 5,
   "id": "c8980bb3",
   "metadata": {},
   "outputs": [
    {
     "name": "stdout",
     "output_type": "stream",
     "text": [
      "Model: \"sequential\"\n",
      "_________________________________________________________________\n",
      " Layer (type)                Output Shape              Param #   \n",
      "=================================================================\n",
      " dense (Dense)               (None, 5)                 50        \n",
      "                                                                 \n",
      " dense_1 (Dense)             (None, 5)                 30        \n",
      "                                                                 \n",
      " dense_2 (Dense)             (None, 1)                 6         \n",
      "                                                                 \n",
      "=================================================================\n",
      "Total params: 86 (344.00 Byte)\n",
      "Trainable params: 86 (344.00 Byte)\n",
      "Non-trainable params: 0 (0.00 Byte)\n",
      "_________________________________________________________________\n"
     ]
    }
   ],
   "source": [
    "# only use the cigaretee data\n",
    "y = merged_df[\"target\"].values\n",
    "X = merged_df.drop(columns = [\"Year-State\",\"target\",\"Major CV Disease-Overall\",'Inactive-Female', 'Inactive-Male', 'Inactive-Overall',\n",
    "       'Obese-Female', 'Obese-Male', 'Obese-Overall', 'Diabetic-Female',\n",
    "       'Diabetic-Male', 'Diabetic-Overall', 'Stroke-Female', 'Stroke-Male',\n",
    "       'Stroke-Overall', 'Coronary Disease-Female', 'Coronary Disease-Male',\n",
    "       'Coronary Disease-Overall', 'Heart Attack-Female', 'Heart Attack-Male',\n",
    "       'Heart Attack-Overall', 'Major CV Disease-Female',\n",
    "       'Major CV Disease-Male'])\n",
    "X_train, X_test, y_train, y_test = train_test_split(X, y, random_state=78)\n",
    "scaler = StandardScaler()\n",
    "X_train_scaled = scaler.fit_transform(X_train)\n",
    "X_test_scaled = scaler.transform(X_test)\n",
    "# Create the Keras Sequential model\n",
    "nn_model = tf.keras.models.Sequential()\n",
    "# Add our first Dense layer, including the input layer\n",
    "\n",
    "nn_model.add(tf.keras.layers.Dense(units=5, activation=\"relu\", input_dim=9))\n",
    "nn_model.add(tf.keras.layers.Dense(units=5, activation=\"relu\", input_dim=9))\n",
    "# Add the output layer that uses a probability activation function\n",
    "nn_model.add(tf.keras.layers.Dense(units=1, activation=\"sigmoid\"))\n",
    "nn_model.summary()"
   ]
  },
  {
   "cell_type": "code",
   "execution_count": 6,
   "id": "41de5350",
   "metadata": {},
   "outputs": [
    {
     "data": {
      "text/plain": [
       "Index(['current_overall', 'current_female', 'current_male', 'Never_overall',\n",
       "       'Never_female', 'Never_male', 'Former_overall', 'Former_female',\n",
       "       'Former_male'],\n",
       "      dtype='object')"
      ]
     },
     "execution_count": 6,
     "metadata": {},
     "output_type": "execute_result"
    }
   ],
   "source": [
    "X.columns"
   ]
  },
  {
   "cell_type": "code",
   "execution_count": 7,
   "id": "9d186ef4",
   "metadata": {},
   "outputs": [
    {
     "name": "stdout",
     "output_type": "stream",
     "text": [
      "Epoch 1/50\n",
      "10/10 [==============================] - 2s 4ms/step - loss: 0.8500 - accuracy: 0.4230\n",
      "Epoch 2/50\n",
      "10/10 [==============================] - 0s 6ms/step - loss: 0.8138 - accuracy: 0.4295\n",
      "Epoch 3/50\n",
      "10/10 [==============================] - 0s 7ms/step - loss: 0.7809 - accuracy: 0.4393\n",
      "Epoch 4/50\n",
      "10/10 [==============================] - 0s 4ms/step - loss: 0.7523 - accuracy: 0.4557\n",
      "Epoch 5/50\n",
      "10/10 [==============================] - 0s 5ms/step - loss: 0.7264 - accuracy: 0.4984\n",
      "Epoch 6/50\n",
      "10/10 [==============================] - 0s 9ms/step - loss: 0.7025 - accuracy: 0.5148\n",
      "Epoch 7/50\n",
      "10/10 [==============================] - 0s 7ms/step - loss: 0.6818 - accuracy: 0.5672\n",
      "Epoch 8/50\n",
      "10/10 [==============================] - 0s 8ms/step - loss: 0.6611 - accuracy: 0.5967\n",
      "Epoch 9/50\n",
      "10/10 [==============================] - 0s 6ms/step - loss: 0.6414 - accuracy: 0.6328\n",
      "Epoch 10/50\n",
      "10/10 [==============================] - 0s 7ms/step - loss: 0.6225 - accuracy: 0.6754\n",
      "Epoch 11/50\n",
      "10/10 [==============================] - 0s 4ms/step - loss: 0.6032 - accuracy: 0.7180\n",
      "Epoch 12/50\n",
      "10/10 [==============================] - 0s 6ms/step - loss: 0.5838 - accuracy: 0.7475\n",
      "Epoch 13/50\n",
      "10/10 [==============================] - 0s 6ms/step - loss: 0.5643 - accuracy: 0.7672\n",
      "Epoch 14/50\n",
      "10/10 [==============================] - 0s 6ms/step - loss: 0.5430 - accuracy: 0.7967\n",
      "Epoch 15/50\n",
      "10/10 [==============================] - 0s 8ms/step - loss: 0.5188 - accuracy: 0.8131\n",
      "Epoch 16/50\n",
      "10/10 [==============================] - 0s 6ms/step - loss: 0.4952 - accuracy: 0.8197\n",
      "Epoch 17/50\n",
      "10/10 [==============================] - 0s 5ms/step - loss: 0.4719 - accuracy: 0.8262\n",
      "Epoch 18/50\n",
      "10/10 [==============================] - 0s 8ms/step - loss: 0.4510 - accuracy: 0.8295\n",
      "Epoch 19/50\n",
      "10/10 [==============================] - 0s 4ms/step - loss: 0.4371 - accuracy: 0.8295\n",
      "Epoch 20/50\n",
      "10/10 [==============================] - 0s 7ms/step - loss: 0.4247 - accuracy: 0.8295\n",
      "Epoch 21/50\n",
      "10/10 [==============================] - 0s 7ms/step - loss: 0.4155 - accuracy: 0.8230\n",
      "Epoch 22/50\n",
      "10/10 [==============================] - 0s 5ms/step - loss: 0.4086 - accuracy: 0.8197\n",
      "Epoch 23/50\n",
      "10/10 [==============================] - 0s 7ms/step - loss: 0.4025 - accuracy: 0.8164\n",
      "Epoch 24/50\n",
      "10/10 [==============================] - 0s 9ms/step - loss: 0.3974 - accuracy: 0.8197\n",
      "Epoch 25/50\n",
      "10/10 [==============================] - 0s 6ms/step - loss: 0.3929 - accuracy: 0.8197\n",
      "Epoch 26/50\n",
      "10/10 [==============================] - 0s 8ms/step - loss: 0.3894 - accuracy: 0.8197\n",
      "Epoch 27/50\n",
      "10/10 [==============================] - 0s 7ms/step - loss: 0.3861 - accuracy: 0.8197\n",
      "Epoch 28/50\n",
      "10/10 [==============================] - 0s 8ms/step - loss: 0.3838 - accuracy: 0.8197\n",
      "Epoch 29/50\n",
      "10/10 [==============================] - 0s 7ms/step - loss: 0.3812 - accuracy: 0.8197\n",
      "Epoch 30/50\n",
      "10/10 [==============================] - 0s 7ms/step - loss: 0.3791 - accuracy: 0.8197\n",
      "Epoch 31/50\n",
      "10/10 [==============================] - 0s 7ms/step - loss: 0.3773 - accuracy: 0.8197\n",
      "Epoch 32/50\n",
      "10/10 [==============================] - 0s 7ms/step - loss: 0.3757 - accuracy: 0.8197\n",
      "Epoch 33/50\n",
      "10/10 [==============================] - 0s 4ms/step - loss: 0.3744 - accuracy: 0.8164\n",
      "Epoch 34/50\n",
      "10/10 [==============================] - 0s 5ms/step - loss: 0.3731 - accuracy: 0.8164\n",
      "Epoch 35/50\n",
      "10/10 [==============================] - 0s 6ms/step - loss: 0.3715 - accuracy: 0.8131\n",
      "Epoch 36/50\n",
      "10/10 [==============================] - 0s 6ms/step - loss: 0.3704 - accuracy: 0.8131\n",
      "Epoch 37/50\n",
      "10/10 [==============================] - 0s 6ms/step - loss: 0.3692 - accuracy: 0.8131\n",
      "Epoch 38/50\n",
      "10/10 [==============================] - 0s 8ms/step - loss: 0.3680 - accuracy: 0.8131\n",
      "Epoch 39/50\n",
      "10/10 [==============================] - 0s 8ms/step - loss: 0.3671 - accuracy: 0.8131\n",
      "Epoch 40/50\n",
      "10/10 [==============================] - 0s 6ms/step - loss: 0.3660 - accuracy: 0.8131\n",
      "Epoch 41/50\n",
      "10/10 [==============================] - 0s 5ms/step - loss: 0.3649 - accuracy: 0.8164\n",
      "Epoch 42/50\n",
      "10/10 [==============================] - 0s 6ms/step - loss: 0.3639 - accuracy: 0.8197\n",
      "Epoch 43/50\n",
      "10/10 [==============================] - 0s 6ms/step - loss: 0.3627 - accuracy: 0.8197\n",
      "Epoch 44/50\n",
      "10/10 [==============================] - 0s 5ms/step - loss: 0.3618 - accuracy: 0.8197\n",
      "Epoch 45/50\n",
      "10/10 [==============================] - 0s 8ms/step - loss: 0.3609 - accuracy: 0.8164\n",
      "Epoch 46/50\n",
      "10/10 [==============================] - 0s 9ms/step - loss: 0.3600 - accuracy: 0.8164\n",
      "Epoch 47/50\n",
      "10/10 [==============================] - 0s 5ms/step - loss: 0.3594 - accuracy: 0.8131\n",
      "Epoch 48/50\n",
      "10/10 [==============================] - 0s 8ms/step - loss: 0.3583 - accuracy: 0.8131\n",
      "Epoch 49/50\n",
      "10/10 [==============================] - 0s 7ms/step - loss: 0.3578 - accuracy: 0.8131\n",
      "Epoch 50/50\n",
      "10/10 [==============================] - 0s 7ms/step - loss: 0.3570 - accuracy: 0.8131\n"
     ]
    }
   ],
   "source": [
    "# Compile the Sequential model together and customize metrics\n",
    "nn_model.compile(loss=\"BinaryCrossentropy\", optimizer=\"adam\", metrics=[\"accuracy\"])\n",
    "\n",
    "# Train the model\n",
    "fit_model = nn_model.fit(X_train_scaled, y_train, epochs=50)"
   ]
  },
  {
   "cell_type": "code",
   "execution_count": 8,
   "id": "398c91a0",
   "metadata": {},
   "outputs": [
    {
     "name": "stdout",
     "output_type": "stream",
     "text": [
      "4/4 - 0s - loss: 0.3803 - accuracy: 0.8039 - 411ms/epoch - 103ms/step\n",
      "Loss: 0.3802880048751831, Accuracy: 0.8039215803146362\n"
     ]
    }
   ],
   "source": [
    "# Evaluate the model using the test data\n",
    "model_loss, model_accuracy = nn_model.evaluate(X_test_scaled,y_test,verbose=2)\n",
    "print(f\"Loss: {model_loss}, Accuracy: {model_accuracy}\")"
   ]
  },
  {
   "cell_type": "code",
   "execution_count": 9,
   "id": "ee236d42",
   "metadata": {},
   "outputs": [
    {
     "data": {
      "image/png": "[encoded data removed]",
      "text/plain": [
       "<Figure size 640x480 with 1 Axes>"
      ]
     },
     "metadata": {},
     "output_type": "display_data"
    }
   ],
   "source": [
    "import matplotlib.pyplot as plt\n",
    "\n",
    "history_dict = fit_model.history\n",
    "loss_values = history_dict['loss']\n",
    "accuracy_values = history_dict['accuracy']  # You might need to adjust the key\n",
    "\n",
    "epochs = range(1, len(loss_values) + 1)\n",
    "\n",
    "plt.plot(epochs, loss_values, 'bo', label='Training loss')\n",
    "plt.plot(epochs, accuracy_values, 'go', label='Training accuracy')  # Add accuracy line\n",
    "\n",
    "plt.title('Training Loss and Accuracy')\n",
    "plt.xlabel('Epochs')\n",
    "plt.ylabel('Value')\n",
    "plt.legend()\n",
    "\n",
    "plt.show()"
   ]
  },
  {
   "cell_type": "code",
   "execution_count": null,
   "id": "635eb2b1",
   "metadata": {},
   "outputs": [],
   "source": []
  },
  {
   "cell_type": "markdown",
   "id": "66b388ec",
   "metadata": {},
   "source": [
    "##  optimize 1 reduce epochs"
   ]
  },
  {
   "cell_type": "code",
   "execution_count": 10,
   "id": "34fd2cbc",
   "metadata": {},
   "outputs": [
    {
     "name": "stdout",
     "output_type": "stream",
     "text": [
      "Model: \"sequential_1\"\n",
      "_________________________________________________________________\n",
      " Layer (type)                Output Shape              Param #   \n",
      "=================================================================\n",
      " dense_3 (Dense)             (None, 5)                 50        \n",
      "                                                                 \n",
      " dense_4 (Dense)             (None, 5)                 30        \n",
      "                                                                 \n",
      " dense_5 (Dense)             (None, 1)                 6         \n",
      "                                                                 \n",
      "=================================================================\n",
      "Total params: 86 (344.00 Byte)\n",
      "Trainable params: 86 (344.00 Byte)\n",
      "Non-trainable params: 0 (0.00 Byte)\n",
      "_________________________________________________________________\n"
     ]
    }
   ],
   "source": [
    "\n",
    "# Create the Keras Sequential model\n",
    "nn_model2 = tf.keras.models.Sequential()\n",
    "# Add our first Dense layer, including the input layer\n",
    "\n",
    "nn_model2.add(tf.keras.layers.Dense(units=5, activation=\"relu\", input_dim=9))\n",
    "nn_model2.add(tf.keras.layers.Dense(units=5, activation=\"relu\", input_dim=9))\n",
    "# Add the output layer that uses a probability activation function\n",
    "nn_model2.add(tf.keras.layers.Dense(units=1, activation=\"sigmoid\"))\n",
    "nn_model2.summary()"
   ]
  },
  {
   "cell_type": "code",
   "execution_count": 11,
   "id": "67cac5c3",
   "metadata": {},
   "outputs": [
    {
     "name": "stdout",
     "output_type": "stream",
     "text": [
      "Epoch 1/30\n",
      "10/10 [==============================] - 2s 5ms/step - loss: 0.5837 - accuracy: 0.7410\n",
      "Epoch 2/30\n",
      "10/10 [==============================] - 0s 7ms/step - loss: 0.5665 - accuracy: 0.7770\n",
      "Epoch 3/30\n",
      "10/10 [==============================] - 0s 7ms/step - loss: 0.5514 - accuracy: 0.7902\n",
      "Epoch 4/30\n",
      "10/10 [==============================] - 0s 7ms/step - loss: 0.5371 - accuracy: 0.7967\n",
      "Epoch 5/30\n",
      "10/10 [==============================] - 0s 11ms/step - loss: 0.5228 - accuracy: 0.7967\n",
      "Epoch 6/30\n",
      "10/10 [==============================] - 0s 6ms/step - loss: 0.5101 - accuracy: 0.8098\n",
      "Epoch 7/30\n",
      "10/10 [==============================] - 0s 5ms/step - loss: 0.4984 - accuracy: 0.8131\n",
      "Epoch 8/30\n",
      "10/10 [==============================] - 0s 6ms/step - loss: 0.4880 - accuracy: 0.8197\n",
      "Epoch 9/30\n",
      "10/10 [==============================] - 0s 4ms/step - loss: 0.4777 - accuracy: 0.8230\n",
      "Epoch 10/30\n",
      "10/10 [==============================] - 0s 5ms/step - loss: 0.4692 - accuracy: 0.8262\n",
      "Epoch 11/30\n",
      "10/10 [==============================] - 0s 7ms/step - loss: 0.4619 - accuracy: 0.8295\n",
      "Epoch 12/30\n",
      "10/10 [==============================] - 0s 8ms/step - loss: 0.4544 - accuracy: 0.8230\n",
      "Epoch 13/30\n",
      "10/10 [==============================] - 0s 10ms/step - loss: 0.4481 - accuracy: 0.8197\n",
      "Epoch 14/30\n",
      "10/10 [==============================] - 0s 7ms/step - loss: 0.4421 - accuracy: 0.8131\n",
      "Epoch 15/30\n",
      "10/10 [==============================] - 0s 13ms/step - loss: 0.4373 - accuracy: 0.8131\n",
      "Epoch 16/30\n",
      "10/10 [==============================] - 0s 9ms/step - loss: 0.4320 - accuracy: 0.8131\n",
      "Epoch 17/30\n",
      "10/10 [==============================] - 0s 8ms/step - loss: 0.4283 - accuracy: 0.8164\n",
      "Epoch 18/30\n",
      "10/10 [==============================] - 0s 8ms/step - loss: 0.4242 - accuracy: 0.8131\n",
      "Epoch 19/30\n",
      "10/10 [==============================] - 0s 6ms/step - loss: 0.4208 - accuracy: 0.8131\n",
      "Epoch 20/30\n",
      "10/10 [==============================] - 0s 7ms/step - loss: 0.4175 - accuracy: 0.8131\n",
      "Epoch 21/30\n",
      "10/10 [==============================] - 0s 9ms/step - loss: 0.4146 - accuracy: 0.8098\n",
      "Epoch 22/30\n",
      "10/10 [==============================] - 0s 8ms/step - loss: 0.4121 - accuracy: 0.8098\n",
      "Epoch 23/30\n",
      "10/10 [==============================] - 0s 6ms/step - loss: 0.4094 - accuracy: 0.8098\n",
      "Epoch 24/30\n",
      "10/10 [==============================] - 0s 7ms/step - loss: 0.4068 - accuracy: 0.8131\n",
      "Epoch 25/30\n",
      "10/10 [==============================] - 0s 5ms/step - loss: 0.4042 - accuracy: 0.8066\n",
      "Epoch 26/30\n",
      "10/10 [==============================] - 0s 6ms/step - loss: 0.4018 - accuracy: 0.8066\n",
      "Epoch 27/30\n",
      "10/10 [==============================] - 0s 9ms/step - loss: 0.3994 - accuracy: 0.8098\n",
      "Epoch 28/30\n",
      "10/10 [==============================] - 0s 9ms/step - loss: 0.3971 - accuracy: 0.8066\n",
      "Epoch 29/30\n",
      "10/10 [==============================] - 0s 5ms/step - loss: 0.3951 - accuracy: 0.8098\n",
      "Epoch 30/30\n",
      "10/10 [==============================] - 0s 6ms/step - loss: 0.3930 - accuracy: 0.8131\n"
     ]
    }
   ],
   "source": [
    "# Compile the Sequential model together and customize metrics\n",
    "nn_model2.compile(loss=\"BinaryCrossentropy\", optimizer=\"adam\", metrics=[\"accuracy\"])\n",
    "\n",
    "# Train the model\n",
    "fit_model2 = nn_model2.fit(X_train_scaled, y_train, epochs=30)"
   ]
  },
  {
   "cell_type": "code",
   "execution_count": 12,
   "id": "ad7e7cdc",
   "metadata": {},
   "outputs": [
    {
     "name": "stdout",
     "output_type": "stream",
     "text": [
      "4/4 - 0s - loss: 0.4117 - accuracy: 0.8235 - 220ms/epoch - 55ms/step\n",
      "Loss: 0.41172292828559875, Accuracy: 0.8235294222831726\n"
     ]
    }
   ],
   "source": [
    "# Evaluate the model using the test data\n",
    "model_loss, model_accuracy = nn_model2.evaluate(X_test_scaled,y_test,verbose=2)\n",
    "print(f\"Loss: {model_loss}, Accuracy: {model_accuracy}\")"
   ]
  },
  {
   "cell_type": "code",
   "execution_count": 13,
   "id": "3d8a988f",
   "metadata": {},
   "outputs": [
    {
     "data": {
      "image/png": "[encoded data removed]",
      "text/plain": [
       "<Figure size 640x480 with 1 Axes>"
      ]
     },
     "metadata": {},
     "output_type": "display_data"
    }
   ],
   "source": [
    "history_dict = fit_model2.history\n",
    "loss_values = history_dict['loss']\n",
    "accuracy_values = history_dict['accuracy']  # You might need to adjust the key\n",
    "\n",
    "epochs = range(1, len(loss_values) + 1)\n",
    "\n",
    "plt.plot(epochs, loss_values, 'bo', label='Training loss')\n",
    "plt.plot(epochs, accuracy_values, 'go', label='Training accuracy')  # Add accuracy line\n",
    "\n",
    "plt.title('Training Loss and Accuracy')\n",
    "plt.xlabel('Epochs')\n",
    "plt.ylabel('Value')\n",
    "plt.legend()\n",
    "\n",
    "plt.show()"
   ]
  },
  {
   "cell_type": "markdown",
   "id": "979976c8",
   "metadata": {},
   "source": [
    "# optimize 2 adding other high risk data as inputs"
   ]
  },
  {
   "cell_type": "code",
   "execution_count": 15,
   "id": "bcbd1359",
   "metadata": {},
   "outputs": [],
   "source": [
    "# Use the cigrate and state disease(Obese and diabd) data\n",
    "y2 = merged_df[\"target\"].values\n",
    "X2 = merged_df.drop(columns = [\"Year-State\",\"target\",\"Major CV Disease-Overall\"])"
   ]
  },
  {
   "cell_type": "code",
   "execution_count": 16,
   "id": "6468e250",
   "metadata": {},
   "outputs": [
    {
     "data": {
      "text/plain": [
       "Index(['Inactive-Female', 'Inactive-Male', 'Inactive-Overall', 'Obese-Female',\n",
       "       'Obese-Male', 'Obese-Overall', 'Diabetic-Female', 'Diabetic-Male',\n",
       "       'Diabetic-Overall', 'Stroke-Female', 'Stroke-Male', 'Stroke-Overall',\n",
       "       'Coronary Disease-Female', 'Coronary Disease-Male',\n",
       "       'Coronary Disease-Overall', 'Heart Attack-Female', 'Heart Attack-Male',\n",
       "       'Heart Attack-Overall', 'Major CV Disease-Female',\n",
       "       'Major CV Disease-Male', 'current_overall', 'current_female',\n",
       "       'current_male', 'Never_overall', 'Never_female', 'Never_male',\n",
       "       'Former_overall', 'Former_female', 'Former_male'],\n",
       "      dtype='object')"
      ]
     },
     "execution_count": 16,
     "metadata": {},
     "output_type": "execute_result"
    }
   ],
   "source": [
    "X2.columns"
   ]
  },
  {
   "cell_type": "code",
   "execution_count": 17,
   "id": "5f10a823",
   "metadata": {},
   "outputs": [],
   "source": [
    "# Use sklearn to split dataset\n",
    "\n",
    "X_train2, X_test2, y_train2, y_test2 = train_test_split(X2, y2, random_state=78)"
   ]
  },
  {
   "cell_type": "code",
   "execution_count": 18,
   "id": "78a4ef3c",
   "metadata": {},
   "outputs": [],
   "source": [
    "# Scale the input data\n",
    "\n",
    "X_train_scaled2 = scaler.fit_transform(X_train2)\n",
    "X_test_scaled2 = scaler.transform(X_test2)"
   ]
  },
  {
   "cell_type": "code",
   "execution_count": 19,
   "id": "ad7f619d",
   "metadata": {},
   "outputs": [
    {
     "name": "stdout",
     "output_type": "stream",
     "text": [
      "Model: \"sequential_2\"\n",
      "_________________________________________________________________\n",
      " Layer (type)                Output Shape              Param #   \n",
      "=================================================================\n",
      " dense_6 (Dense)             (None, 5)                 150       \n",
      "                                                                 \n",
      " dense_7 (Dense)             (None, 5)                 30        \n",
      "                                                                 \n",
      " dense_8 (Dense)             (None, 1)                 6         \n",
      "                                                                 \n",
      "=================================================================\n",
      "Total params: 186 (744.00 Byte)\n",
      "Trainable params: 186 (744.00 Byte)\n",
      "Non-trainable params: 0 (0.00 Byte)\n",
      "_________________________________________________________________\n"
     ]
    }
   ],
   "source": [
    "# Create the Keras Sequential model\n",
    "nn_model3 = tf.keras.models.Sequential()\n",
    "# Add our first Dense layer, including the input layer\n",
    "\n",
    "nn_model3.add(tf.keras.layers.Dense(units=5, activation=\"tanh\", input_dim=29))\n",
    "nn_model3.add(tf.keras.layers.Dense(units=5, activation=\"tanh\", input_dim=29))\n",
    "# Add the output layer that uses a probability activation function\n",
    "nn_model3.add(tf.keras.layers.Dense(units=1, activation=\"sigmoid\"))\n",
    "# Check the structure of the Sequential model\n",
    "nn_model3.summary()"
   ]
  },
  {
   "cell_type": "code",
   "execution_count": 20,
   "id": "4ec6dff0",
   "metadata": {},
   "outputs": [
    {
     "name": "stdout",
     "output_type": "stream",
     "text": [
      "Epoch 1/30\n",
      "10/10 [==============================] - 1s 4ms/step - loss: 0.7740 - accuracy: 0.3115\n",
      "Epoch 2/30\n",
      "10/10 [==============================] - 0s 5ms/step - loss: 0.6936 - accuracy: 0.5246\n",
      "Epoch 3/30\n",
      "10/10 [==============================] - 0s 5ms/step - loss: 0.6238 - accuracy: 0.7443\n",
      "Epoch 4/30\n",
      "10/10 [==============================] - 0s 4ms/step - loss: 0.5646 - accuracy: 0.8459\n",
      "Epoch 5/30\n",
      "10/10 [==============================] - 0s 4ms/step - loss: 0.5110 - accuracy: 0.9016\n",
      "Epoch 6/30\n",
      "10/10 [==============================] - 0s 5ms/step - loss: 0.4630 - accuracy: 0.9213\n",
      "Epoch 7/30\n",
      "10/10 [==============================] - 0s 5ms/step - loss: 0.4166 - accuracy: 0.9377\n",
      "Epoch 8/30\n",
      "10/10 [==============================] - 0s 5ms/step - loss: 0.3739 - accuracy: 0.9443\n",
      "Epoch 9/30\n",
      "10/10 [==============================] - 0s 6ms/step - loss: 0.3364 - accuracy: 0.9541\n",
      "Epoch 10/30\n",
      "10/10 [==============================] - 0s 9ms/step - loss: 0.3057 - accuracy: 0.9541\n",
      "Epoch 11/30\n",
      "10/10 [==============================] - 0s 6ms/step - loss: 0.2815 - accuracy: 0.9607\n",
      "Epoch 12/30\n",
      "10/10 [==============================] - 0s 6ms/step - loss: 0.2612 - accuracy: 0.9639\n",
      "Epoch 13/30\n",
      "10/10 [==============================] - 0s 5ms/step - loss: 0.2440 - accuracy: 0.9672\n",
      "Epoch 14/30\n",
      "10/10 [==============================] - 0s 6ms/step - loss: 0.2295 - accuracy: 0.9672\n",
      "Epoch 15/30\n",
      "10/10 [==============================] - 0s 5ms/step - loss: 0.2167 - accuracy: 0.9672\n",
      "Epoch 16/30\n",
      "10/10 [==============================] - 0s 5ms/step - loss: 0.2054 - accuracy: 0.9672\n",
      "Epoch 17/30\n",
      "10/10 [==============================] - 0s 5ms/step - loss: 0.1955 - accuracy: 0.9672\n",
      "Epoch 18/30\n",
      "10/10 [==============================] - 0s 4ms/step - loss: 0.1866 - accuracy: 0.9672\n",
      "Epoch 19/30\n",
      "10/10 [==============================] - 0s 5ms/step - loss: 0.1785 - accuracy: 0.9672\n",
      "Epoch 20/30\n",
      "10/10 [==============================] - 0s 8ms/step - loss: 0.1711 - accuracy: 0.9672\n",
      "Epoch 21/30\n",
      "10/10 [==============================] - 0s 4ms/step - loss: 0.1646 - accuracy: 0.9672\n",
      "Epoch 22/30\n",
      "10/10 [==============================] - 0s 5ms/step - loss: 0.1585 - accuracy: 0.9672\n",
      "Epoch 23/30\n",
      "10/10 [==============================] - 0s 5ms/step - loss: 0.1531 - accuracy: 0.9672\n",
      "Epoch 24/30\n",
      "10/10 [==============================] - 0s 4ms/step - loss: 0.1478 - accuracy: 0.9672\n",
      "Epoch 25/30\n",
      "10/10 [==============================] - 0s 4ms/step - loss: 0.1431 - accuracy: 0.9672\n",
      "Epoch 26/30\n",
      "10/10 [==============================] - 0s 5ms/step - loss: 0.1387 - accuracy: 0.9672\n",
      "Epoch 27/30\n",
      "10/10 [==============================] - 0s 7ms/step - loss: 0.1346 - accuracy: 0.9672\n",
      "Epoch 28/30\n",
      "10/10 [==============================] - 0s 5ms/step - loss: 0.1309 - accuracy: 0.9672\n",
      "Epoch 29/30\n",
      "10/10 [==============================] - 0s 5ms/step - loss: 0.1271 - accuracy: 0.9672\n",
      "Epoch 30/30\n",
      "10/10 [==============================] - 0s 5ms/step - loss: 0.1238 - accuracy: 0.9672\n",
      "4/4 - 0s - loss: 0.2047 - accuracy: 0.9118 - 220ms/epoch - 55ms/step\n",
      "Loss: 0.20465624332427979, Accuracy: 0.9117646813392639\n"
     ]
    }
   ],
   "source": [
    "# Compile the Sequential model together and customize metrics\n",
    "nn_model3.compile(loss=\"BinaryCrossentropy\", optimizer=\"adam\", metrics=[\"accuracy\"])\n",
    "\n",
    "# Train the model\n",
    "fit_model3 = nn_model3.fit(X_train_scaled2, y_train2, epochs=30)\n",
    "\n",
    "# Evaluate the model using the test data\n",
    "model_loss, model_accuracy = nn_model3.evaluate(X_test_scaled2,y_test2,verbose=2)\n",
    "print(f\"Loss: {model_loss}, Accuracy: {model_accuracy}\")"
   ]
  },
  {
   "cell_type": "code",
   "execution_count": 21,
   "id": "e319510d",
   "metadata": {},
   "outputs": [
    {
     "data": {
      "image/png": "[encoded data removed]",
      "text/plain": [
       "<Figure size 640x480 with 1 Axes>"
      ]
     },
     "metadata": {},
     "output_type": "display_data"
    }
   ],
   "source": [
    "history_dict = fit_model3.history\n",
    "loss_values = history_dict['loss']\n",
    "accuracy_values = history_dict['accuracy']  # You might need to adjust the key\n",
    "\n",
    "epochs = range(1, len(loss_values) + 1)\n",
    "\n",
    "plt.plot(epochs, loss_values, 'bo', label='Training loss')\n",
    "plt.plot(epochs, accuracy_values, 'go', label='Training accuracy')  # Add accuracy line\n",
    "\n",
    "plt.title('Training Loss and Accuracy')\n",
    "plt.xlabel('Epochs')\n",
    "plt.ylabel('Value')\n",
    "plt.legend()\n",
    "\n",
    "plt.show()"
   ]
  },
  {
   "cell_type": "code",
   "execution_count": 22,
   "id": "6e7d197c",
   "metadata": {},
   "outputs": [
    {
     "name": "stdout",
     "output_type": "stream",
     "text": [
      "4/4 - 0s - loss: 0.2047 - accuracy: 0.9118 - 44ms/epoch - 11ms/step\n",
      "Loss: 0.20465624332427979, Accuracy: 0.9117646813392639\n"
     ]
    }
   ],
   "source": [
    "# Evaluate the model using the test data\n",
    "model_loss3, model_accuracy3 = nn_model3.evaluate(X_test_scaled2,y_test2,verbose=2)\n",
    "print(f\"Loss: {model_loss3}, Accuracy: {model_accuracy3}\")"
   ]
  },
  {
   "cell_type": "markdown",
   "id": "39334c3f",
   "metadata": {},
   "source": [
    "# OPT4 reduce layer"
   ]
  },
  {
   "cell_type": "code",
   "execution_count": 25,
   "id": "0fff7ffc",
   "metadata": {},
   "outputs": [
    {
     "name": "stdout",
     "output_type": "stream",
     "text": [
      "Model: \"sequential_4\"\n",
      "_________________________________________________________________\n",
      " Layer (type)                Output Shape              Param #   \n",
      "=================================================================\n",
      " dense_11 (Dense)            (None, 20)                600       \n",
      "                                                                 \n",
      " dense_12 (Dense)            (None, 1)                 21        \n",
      "                                                                 \n",
      "=================================================================\n",
      "Total params: 621 (2.43 KB)\n",
      "Trainable params: 621 (2.43 KB)\n",
      "Non-trainable params: 0 (0.00 Byte)\n",
      "_________________________________________________________________\n"
     ]
    }
   ],
   "source": [
    "# Create the Keras Sequential model\n",
    "nn_model4 = tf.keras.models.Sequential()\n",
    "# Add our first Dense layer, including the input layer\n",
    "\n",
    "nn_model4.add(tf.keras.layers.Dense(units=20, activation=\"tanh\", input_dim=29))\n",
    "# Add the output layer that uses a probability activation function\n",
    "nn_model4.add(tf.keras.layers.Dense(units=1, activation=\"sigmoid\"))\n",
    "# Check the structure of the Sequential model\n",
    "nn_model4.summary()"
   ]
  },
  {
   "cell_type": "code",
   "execution_count": 26,
   "id": "318519a8",
   "metadata": {},
   "outputs": [
    {
     "name": "stdout",
     "output_type": "stream",
     "text": [
      "Epoch 1/30\n",
      "10/10 [==============================] - 1s 3ms/step - loss: 0.4582 - accuracy: 0.8066\n",
      "Epoch 2/30\n",
      "10/10 [==============================] - 0s 5ms/step - loss: 0.3254 - accuracy: 0.8787\n",
      "Epoch 3/30\n",
      "10/10 [==============================] - 0s 4ms/step - loss: 0.2454 - accuracy: 0.9246\n",
      "Epoch 4/30\n",
      "10/10 [==============================] - 0s 4ms/step - loss: 0.1985 - accuracy: 0.9574\n",
      "Epoch 5/30\n",
      "10/10 [==============================] - 0s 4ms/step - loss: 0.1699 - accuracy: 0.9639\n",
      "Epoch 6/30\n",
      "10/10 [==============================] - 0s 5ms/step - loss: 0.1510 - accuracy: 0.9639\n",
      "Epoch 7/30\n",
      "10/10 [==============================] - 0s 6ms/step - loss: 0.1384 - accuracy: 0.9639\n",
      "Epoch 8/30\n",
      "10/10 [==============================] - 0s 5ms/step - loss: 0.1284 - accuracy: 0.9639\n",
      "Epoch 9/30\n",
      "10/10 [==============================] - 0s 6ms/step - loss: 0.1208 - accuracy: 0.9639\n",
      "Epoch 10/30\n",
      "10/10 [==============================] - 0s 5ms/step - loss: 0.1140 - accuracy: 0.9639\n",
      "Epoch 11/30\n",
      "10/10 [==============================] - 0s 4ms/step - loss: 0.1084 - accuracy: 0.9705\n",
      "Epoch 12/30\n",
      "10/10 [==============================] - 0s 5ms/step - loss: 0.1036 - accuracy: 0.9705\n",
      "Epoch 13/30\n",
      "10/10 [==============================] - 0s 4ms/step - loss: 0.0991 - accuracy: 0.9705\n",
      "Epoch 14/30\n",
      "10/10 [==============================] - 0s 4ms/step - loss: 0.0959 - accuracy: 0.9705\n",
      "Epoch 15/30\n",
      "10/10 [==============================] - 0s 4ms/step - loss: 0.0923 - accuracy: 0.9705\n",
      "Epoch 16/30\n",
      "10/10 [==============================] - 0s 4ms/step - loss: 0.0891 - accuracy: 0.9738\n",
      "Epoch 17/30\n",
      "10/10 [==============================] - 0s 4ms/step - loss: 0.0868 - accuracy: 0.9738\n",
      "Epoch 18/30\n",
      "10/10 [==============================] - 0s 4ms/step - loss: 0.0838 - accuracy: 0.9738\n",
      "Epoch 19/30\n",
      "10/10 [==============================] - 0s 4ms/step - loss: 0.0815 - accuracy: 0.9770\n",
      "Epoch 20/30\n",
      "10/10 [==============================] - 0s 6ms/step - loss: 0.0794 - accuracy: 0.9803\n",
      "Epoch 21/30\n",
      "10/10 [==============================] - 0s 6ms/step - loss: 0.0774 - accuracy: 0.9803\n",
      "Epoch 22/30\n",
      "10/10 [==============================] - 0s 7ms/step - loss: 0.0756 - accuracy: 0.9803\n",
      "Epoch 23/30\n",
      "10/10 [==============================] - 0s 5ms/step - loss: 0.0738 - accuracy: 0.9803\n",
      "Epoch 24/30\n",
      "10/10 [==============================] - 0s 5ms/step - loss: 0.0722 - accuracy: 0.9803\n",
      "Epoch 25/30\n",
      "10/10 [==============================] - 0s 5ms/step - loss: 0.0708 - accuracy: 0.9803\n",
      "Epoch 26/30\n",
      "10/10 [==============================] - 0s 4ms/step - loss: 0.0693 - accuracy: 0.9770\n",
      "Epoch 27/30\n",
      "10/10 [==============================] - 0s 5ms/step - loss: 0.0678 - accuracy: 0.9770\n",
      "Epoch 28/30\n",
      "10/10 [==============================] - 0s 6ms/step - loss: 0.0667 - accuracy: 0.9803\n",
      "Epoch 29/30\n",
      "10/10 [==============================] - 0s 5ms/step - loss: 0.0655 - accuracy: 0.9803\n",
      "Epoch 30/30\n",
      "10/10 [==============================] - 0s 4ms/step - loss: 0.0641 - accuracy: 0.9803\n",
      "4/4 - 0s - loss: 0.1376 - accuracy: 0.9314 - 210ms/epoch - 53ms/step\n",
      "Loss: 0.13764688372612, Accuracy: 0.9313725233078003\n"
     ]
    }
   ],
   "source": [
    "# Compile the Sequential model together and customize metrics\n",
    "nn_model4.compile(loss=\"BinaryCrossentropy\", optimizer=\"adam\", metrics=[\"accuracy\"])\n",
    "\n",
    "# Train the model\n",
    "fit_model4 = nn_model4.fit(X_train_scaled2, y_train2, epochs=30)\n",
    "\n",
    "# Evaluate the model using the test data\n",
    "model_loss, model_accuracy = nn_model4.evaluate(X_test_scaled2,y_test2,verbose=2)\n",
    "print(f\"Loss: {model_loss}, Accuracy: {model_accuracy}\")"
   ]
  },
  {
   "cell_type": "code",
   "execution_count": 27,
   "id": "798a9914",
   "metadata": {},
   "outputs": [
    {
     "data": {
      "image/png": "[encoded data removed]",
      "text/plain": [
       "<Figure size 640x480 with 1 Axes>"
      ]
     },
     "metadata": {},
     "output_type": "display_data"
    }
   ],
   "source": [
    "history_dict = fit_model4.history\n",
    "loss_values = history_dict['loss']\n",
    "accuracy_values = history_dict['accuracy']  # You might need to adjust the key\n",
    "\n",
    "epochs = range(1, len(loss_values) + 1)\n",
    "\n",
    "plt.plot(epochs, loss_values, 'bo', label='Training loss')\n",
    "plt.plot(epochs, accuracy_values, 'go', label='Training accuracy')  # Add accuracy line\n",
    "\n",
    "plt.title('Training Loss and Accuracy')\n",
    "plt.xlabel('Epochs')\n",
    "plt.ylabel('Value')\n",
    "plt.legend()\n",
    "\n",
    "plt.show()"
   ]
  },
  {
   "cell_type": "code",
   "execution_count": 28,
   "id": "302729ed",
   "metadata": {},
   "outputs": [
    {
     "name": "stdout",
     "output_type": "stream",
     "text": [
      "4/4 - 0s - loss: 0.1376 - accuracy: 0.9314 - 57ms/epoch - 14ms/step\n",
      "Loss: 0.13764688372612, Accuracy: 0.9313725233078003\n"
     ]
    }
   ],
   "source": [
    "# Evaluate the model using the test data\n",
    "model_loss4, model_accuracy4 = nn_model4.evaluate(X_test_scaled2,y_test2,verbose=2)\n",
    "print(f\"Loss: {model_loss4}, Accuracy: {model_accuracy4}\")"
   ]
  },
  {
   "cell_type": "code",
   "execution_count": null,
   "id": "6d09090b",
   "metadata": {},
   "outputs": [],
   "source": []
  }
 ],
 "metadata": {
  "kernelspec": {
   "display_name": "PythonData",
   "language": "python",
   "name": "pythondata"
  },
  "language_info": {
   "codemirror_mode": {
    "name": "ipython",
    "version": 3
   },
   "file_extension": ".py",
   "mimetype": "text/x-python",
   "name": "python",
   "nbconvert_exporter": "python",
   "pygments_lexer": "ipython3",
   "version": "3.9.16"
  }
 },
 "nbformat": 4,
 "nbformat_minor": 5
}
